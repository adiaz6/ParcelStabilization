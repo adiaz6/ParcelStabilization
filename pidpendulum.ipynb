{
 "cells": [
  {
   "cell_type": "markdown",
   "metadata": {},
   "source": [
    "# Forced Pendulum Model\n",
    "A forced pendulum model is presented, and a PID controller is implemented. The model represents a moving parcel with a thrust that controls and dampens oscillations.\n",
    "\n",
    "## Pendulum Dynamics\n",
    "The dynamics of the pendulum are $\\ddot{\\theta}+\\frac{g}{L} sin(\\theta) = \\frac{m}{L} F$, where $\\theta$ is the angle with the vertical axis, $L$ is the length of the pendulum, $m$ is the mass of the bob, and $F$ is a force applied at the bob.\n",
    "\n",
    "Assuming $sin(\\theta)=\\theta$ for small angles, and redefining the term $\\frac{m}{L} F$ as a control input $u$, the dynamics are rewritten as $\\ddot{\\theta}+\\frac{g}{L} \\theta = u$.\n",
    "\n",
    "Then, for purposes of numerical integration, the 2nd order differential equation is decomposed to a system of first-order differential equations where the states $x_1, ~ x_2$ correspond to $\\theta$ and $\\dot{\\theta}$, respectively.\n",
    "\n",
    "Rewritten in the state-space form, the dynamics are $\\dot{\\textbf{x}} = \\textbf{A} \\textbf{x} + \\textbf{B} u$, where the vector $\\textbf{x} = \\begin{bmatrix} x_1 \\\\ x_2 \\end{bmatrix}$ is the state vector, $\\textbf{A} = \\begin{bmatrix} 0 & 1 \\\\ -\\frac{g}{L} & 0 \\end{bmatrix}$ and $\\textbf{B} = \\begin{bmatrix} 0 \\\\ 1 \\end{bmatrix}$.\n",
    "\n",
    "The observed output is $\\textbf{y} = \\begin{bmatrix} x_1 \\\\ x_2 \\end{bmatrix}$."
   ]
  },
  {
   "cell_type": "code",
   "execution_count": 160,
   "metadata": {},
   "outputs": [],
   "source": [
    "# Import libraries\n",
    "import numpy as np\n",
    "import matplotlib.pyplot as plt\n",
    "from matplotlib.pyplot import plot\n",
    "from scipy.integrate import odeint"
   ]
  },
  {
   "cell_type": "code",
   "execution_count": 239,
   "metadata": {},
   "outputs": [],
   "source": [
    "g = 9.81 # gravity in m/s2\n",
    "L = 6    # pendulum length in m\n",
    "m = 1\n",
    "\n",
    "# Define the pendulum model\n",
    "def pendulum(X, t, u, g, L):\n",
    "    A = np.array([[0, 1], [-g/L, 0]])\n",
    "    B = np.array([0, 1])\n",
    "\n",
    "    return np.matmul(A, X) + B*u"
   ]
  },
  {
   "cell_type": "code",
   "execution_count": 214,
   "metadata": {},
   "outputs": [
    {
     "name": "stdout",
     "output_type": "stream",
     "text": [
      "[[ 1.57079633  0.        ]\n",
      " [ 1.57071776 -0.01569777]\n",
      " [ 1.57048207 -0.03139299]\n",
      " ...\n",
      " [ 1.55266591 -0.23733854]\n",
      " [ 1.55021313 -0.25272017]\n",
      " [ 1.54760659 -0.26806039]]\n"
     ]
    }
   ],
   "source": [
    "x0 = np.array([np.pi/2, 0])\n",
    "t = np.linspace(0, 10, 1000)\n",
    "u = 1\n",
    "out = odeint(pendulum, x0, t, args=(u, g, L))\n",
    "print(out)"
   ]
  },
  {
   "cell_type": "code",
   "execution_count": 180,
   "metadata": {},
   "outputs": [
    {
     "data": {
      "text/plain": [
       "[<matplotlib.lines.Line2D at 0x1c679e2f550>]"
      ]
     },
     "execution_count": 180,
     "metadata": {},
     "output_type": "execute_result"
    },
    {
     "data": {
      "image/png": "[encoded data removed]",
      "text/plain": [
       "<Figure size 432x288 with 1 Axes>"
      ]
     },
     "metadata": {
      "needs_background": "light"
     },
     "output_type": "display_data"
    }
   ],
   "source": [
    "plot(t, out[:, 0])"
   ]
  },
  {
   "cell_type": "markdown",
   "metadata": {},
   "source": [
    "Observing the response to a step input, it is clear that the system cannot be stabilized without a more sophisticated controller."
   ]
  },
  {
   "cell_type": "markdown",
   "metadata": {},
   "source": [
    "# PID Controller\n",
    "A PID controller is implemented.\n",
    "\n",
    "## Controllability\n",
    "\n",
    "The first step is checking for the controllability of the system.\n",
    "\n",
    "A linear system is controllable if the rank of its controllability matrix $C = \\begin{bmatrix} B & AB & ... & A^{n-1} B \\end{bmatrix}$ is of rank $n$, where $n$ is the number of states.\n",
    "\n",
    "The controllability and rank can be calculated using the `control` module."
   ]
  },
  {
   "cell_type": "code",
   "execution_count": 181,
   "metadata": {},
   "outputs": [
    {
     "data": {
      "text/plain": [
       "2"
      ]
     },
     "execution_count": 181,
     "metadata": {},
     "output_type": "execute_result"
    }
   ],
   "source": [
    "# Check for controllability\n",
    "import control as co\n",
    "\n",
    "# Define matrices A and B\n",
    "A = np.array([[0, 1], [-g/L, 0]])\n",
    "B = np.array([[0], [1]])\n",
    "\n",
    "# Calculate the controllability matrix C\n",
    "C = co.ctrb(A, B)\n",
    "\n",
    "# Calculate the rank of C\n",
    "np.linalg.matrix_rank(C)"
   ]
  },
  {
   "cell_type": "markdown",
   "metadata": {},
   "source": [
    "A rank of 2 indicates that the system is controllable."
   ]
  },
  {
   "cell_type": "markdown",
   "metadata": {},
   "source": [
    "## PID Control Design\n",
    "The PID controller is developed. The setpoint is $x_{des} = \\begin{bmatrix} 0 \\\\ 0 \\end{bmatrix}$, as a stationary parcel is the control goal."
   ]
  },
  {
   "cell_type": "code",
   "execution_count": 182,
   "metadata": {},
   "outputs": [],
   "source": [
    "# Define the setpoint\n",
    "xdes = np.array([0, 0])"
   ]
  },
  {
   "cell_type": "markdown",
   "metadata": {},
   "source": [
    "The PID controller is defined below."
   ]
  },
  {
   "cell_type": "code",
   "execution_count": 223,
   "metadata": {},
   "outputs": [],
   "source": [
    "def pid(Kp, Ki, Kd, X, xdes, error_prev, I):\n",
    "    error = xdes - X\n",
    "    \n",
    "    P = np.matmul(Kp, error)\n",
    "    I = I + np.matmul(Ki, error - error_prev)\n",
    "    D = np.matmul(Kd, error - error_prev)\n",
    "\n",
    "    return P + I + D, I\n",
    "\n"
   ]
  },
  {
   "cell_type": "markdown",
   "metadata": {},
   "source": [
    "Tuning the values for $K_p, ~K_i, ~K_d$ is an iterative process. Below, the PID is used to stabilize the dynamics to zero using the ideal values."
   ]
  },
  {
   "cell_type": "code",
   "execution_count": 253,
   "metadata": {},
   "outputs": [
    {
     "data": {
      "text/plain": [
       "Text(0.5, 1.0, 'PID Controlled Pendulum')"
      ]
     },
     "execution_count": 253,
     "metadata": {},
     "output_type": "execute_result"
    },
    {
     "data": {
      "image/png": "[encoded data removed]",
      "text/plain": [
       "<Figure size 432x288 with 1 Axes>"
      ]
     },
     "metadata": {
      "needs_background": "light"
     },
     "output_type": "display_data"
    }
   ],
   "source": [
    "# Parameters\n",
    "Kp = np.array([50, 5])\n",
    "Ki = np.array([5, 5])\n",
    "Kd = np.array([0.5, 0.5])\n",
    "\n",
    "# Initial conditions and values\n",
    "t = np.linspace(0, 10, 1000)\n",
    "error = np.zeros(len(t))\n",
    "x = np.zeros((2, len(t)))\n",
    "\n",
    "x[:, 0] = np.array([15*np.pi/180, ])\n",
    "U = np.zeros(len(t))\n",
    "\n",
    "I = 0\n",
    "error_prev = 0\n",
    "\n",
    "for i in range(len(t) - 1):\n",
    "    u, I = pid(Kp, Ki, Kd, x[:, i], xdes, error_prev, I)\n",
    "    error_prev = xdes - x[:, i]\n",
    "    U[i] = u\n",
    "\n",
    "    x1 = x[0, i]\n",
    "    x2 = x[1, i]\n",
    "\n",
    "    out = odeint(pendulum, [x1, x2], [t[i], t[i+1]], args=(u, g, L))\n",
    "    \n",
    "    x[:, i+1] = np.array([out[1, 0], out[1, 1]])\n",
    "\n",
    "plot(t, x[0, :]*180/np.pi, label=R'$\\theta$ (deg)')\n",
    "plot(t, x[1, :]*180/np.pi, label=R'$\\dot{\\theta}$ (rad/s)')\n",
    "plt.xlabel('Time (s)')\n",
    "plt.legend()\n",
    "plt.title(\"PID Controlled Pendulum\")"
   ]
  },
  {
   "cell_type": "code",
   "execution_count": 254,
   "metadata": {},
   "outputs": [
    {
     "data": {
      "text/plain": [
       "Text(0, 0.5, 'Control (N)')"
      ]
     },
     "execution_count": 254,
     "metadata": {},
     "output_type": "execute_result"
    },
    {
     "data": {
      "image/png": "[encoded data removed]",
      "text/plain": [
       "<Figure size 432x288 with 1 Axes>"
      ]
     },
     "metadata": {
      "needs_background": "light"
     },
     "output_type": "display_data"
    }
   ],
   "source": [
    "plot(t, U*L/m)\n",
    "plt.title('Control Policy')\n",
    "plt.xlabel('Time (s)')\n",
    "plt.ylabel('Control (N)')"
   ]
  },
  {
   "cell_type": "code",
   "execution_count": null,
   "metadata": {},
   "outputs": [],
   "source": []
  }
 ],
 "metadata": {
  "interpreter": {
   "hash": "777643ede1f78b919fbcb2bd2449695575d62f85ae4fa87ea4760dbba0f5f7ca"
  },
  "kernelspec": {
   "display_name": "Python 3.8.8 ('base')",
   "language": "python",
   "name": "python3"
  },
  "language_info": {
   "codemirror_mode": {
    "name": "ipython",
    "version": 3
   },
   "file_extension": ".py",
   "mimetype": "text/x-python",
   "name": "python",
   "nbconvert_exporter": "python",
   "pygments_lexer": "ipython3",
   "version": "3.8.8"
  },
  "orig_nbformat": 4
 },
 "nbformat": 4,
 "nbformat_minor": 2
}
